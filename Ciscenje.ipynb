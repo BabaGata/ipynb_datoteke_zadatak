{
 "cells": [
  {
   "cell_type": "markdown",
   "id": "f5ad00f8",
   "metadata": {},
   "source": [
    "## Ciscenje .csv filea"
   ]
  },
  {
   "cell_type": "code",
   "execution_count": 1,
   "id": "f5f509cf",
   "metadata": {
    "scrolled": true,
    "tags": []
   },
   "outputs": [],
   "source": [
    "import pandas as pd\n",
    "import numpy as np\n",
    "import datetime as dt\n",
    "\n",
    "pd.set_option('display.max_columns', None)\n",
    "df = pd.read_csv('vehicles.csv')"
   ]
  },
  {
   "cell_type": "code",
   "execution_count": 2,
   "id": "f1666a9f",
   "metadata": {},
   "outputs": [],
   "source": [
    "df_manu = pd.read_csv('VIN_manufacturer.csv')\n",
    "df_manu.manufacturer = df_manu.manufacturer.apply(lambda x: x.split(',')[0])\n",
    "for name in df['manufacturer'].unique():\n",
    "    df_manu.manufacturer.loc[\n",
    "        df_manu['manufacturer'].str.contains('|'.join(str(name).split('-')), case=False, na=False)]=name\n",
    "    \n",
    "manufacturer_ref = df_manu.groupby('manufacturer').id"
   ]
  },
  {
   "cell_type": "markdown",
   "id": "43af67f8",
   "metadata": {},
   "source": [
    "### Koraci u analizi\n",
    "https://www.kaggle.com/datasets/austinreese/craigslist-carstrucks-data?resource=download<br>",
    "Dropat cu county jer ionako ima samo null vrijednosti.<br>\n",
    "Dropat cu sve stupce koji sadrze urlove, model nece moc izvuc neke bitne informacije iz toga a bio bi sporiji zbog dodatnih dimenzija.<br>\n",
    "Dropat cu id.<br>\n",
    "Dropat cu description, ipak ne radim nlp model, pre dug je string da bi model nasao sta korisno.<br>\n",
    "Dropat cu size, pre malo redova ima podatak o tome da bi bilo korisno.<br><br>\n",
    "\n",
    "Zamijeniti np.inf sa nullom.<br><br>\n",
    "\n",
    "Pobrisat cu redove sa price==0, null i resetirat indekse.<br><br>\n",
    "\n",
    "Datum cu pretvoriti u pandas datetime format i kasnije u format koji model moze procesirati.<br>\n",
    "Izvuc broj cilindara iz stringa i pretvorit type u int.<br>\n",
    "\n",
    "Vin broj cu rastaviti na komponente.<br><br>\n",
    "\n",
    "Mislim da cu napraviti vise dataseta:\n",
    "1. za skup podataka ociscen od svih redova s null\n",
    "2. za skup podataka koji ce imat samo stupce s preko 400000 non-null vrijednosti\n",
    "3. za skup podataka u kojem cu pobrisat sve redove s preko 3 null vrijednosti i zamijenit kasnije sve nullove sa median, 'unknown' ili slicno"
   ]
  },
  {
   "cell_type": "code",
   "execution_count": 3,
   "id": "4abefcf6",
   "metadata": {},
   "outputs": [],
   "source": [
    "df = df.drop(['county','description', 'size', 'id'], axis=1)\n",
    "df = df.loc[:,~df.columns.str.contains('url', case=False)]\n",
    "\n",
    "df = df.replace([np.inf, -np.inf], np.nan)\n",
    "\n",
    "\n",
    "df.cylinders = df.cylinders.str.extract('(\\d+)').astype('Int16')\n",
    "df.year = df.year.astype('Int16')\n",
    "df.odometer = df.odometer.astype('Int32')\n",
    "df.price = df.price.astype('int32')\n",
    "\n",
    "df = df[df.price != 0]\n",
    "df = df.dropna(axis=0, subset=['price'])\n",
    "df = df.reset_index(drop=True)"
   ]
  },
  {
   "cell_type": "code",
   "execution_count": 4,
   "id": "bf8db7d7",
   "metadata": {},
   "outputs": [],
   "source": [
    "df_3 = df.dropna(thresh=df.shape[1] - 3)"
   ]
  },
  {
   "cell_type": "code",
   "execution_count": 9,
   "id": "59678a70-eeac-4a31-9aab-699e4689b78b",
   "metadata": {
    "tags": []
   },
   "outputs": [
    {
     "data": {
      "text/plain": [
       "{'region': 'auburn',\n",
       " 'price': 25590,\n",
       " 'year': 2015,\n",
       " 'manufacturer': 'gmc',\n",
       " 'model': 'sierra 1500 regular cab',\n",
       " 'condition': 'good',\n",
       " 'cylinders': 6,\n",
       " 'fuel': 'other',\n",
       " 'odometer': 35290,\n",
       " 'title_status': 'clean',\n",
       " 'transmission': 'other',\n",
       " 'VIN': '1GTN1TEH9FZ243281',\n",
       " 'drive': nan,\n",
       " 'type': 'pickup',\n",
       " 'paint_color': 'white',\n",
       " 'state': 'al',\n",
       " 'lat': 32.59,\n",
       " 'long': -85.48,\n",
       " 'posting_date': '2021-04-28T11:01:06-0500'}"
      ]
     },
     "execution_count": 9,
     "metadata": {},
     "output_type": "execute_result"
    }
   ],
   "source": [
    "diction = {}\n",
    "for i in df_3.columns:\n",
    "    diction[i] = df_3.loc[52][i]\n",
    "    \n",
    "diction"
   ]
  },
  {
   "cell_type": "code",
   "execution_count": null,
   "id": "8a4ad524-fffb-48de-8f21-d7f383ef9e35",
   "metadata": {},
   "outputs": [],
   "source": [
    "df['posting_date'] = pd.to_datetime(df['posting_date'].str[0:-5])\n",
    "df['posting_date']= df['posting_date'].map(dt.datetime.toordinal)"
   ]
  },
  {
   "cell_type": "code",
   "execution_count": 5,
   "id": "2484f279",
   "metadata": {},
   "outputs": [],
   "source": [
    "df['VIN_country'] = df.VIN.str[0:1]\n",
    "df['VIN_manufacturer'] = df.VIN.str[1:3]\n",
    "df['VIN_model_engine_type'] = df.VIN.str[3:8]\n",
    "df['VIN_security_code'] = df.VIN.str[8:9]\n",
    "df['VIN_year'] = df.VIN.str[9:10]\n",
    "df['VIN_plant'] = df.VIN.str[10:11]\n",
    "df = df.drop(['VIN'], axis=1)\n",
    "df.replace('', np.nan, inplace=True)"
   ]
  },
  {
   "cell_type": "code",
   "execution_count": 6,
   "id": "51224267",
   "metadata": {},
   "outputs": [],
   "source": [
    "df_3['VIN_country'] = df_3.VIN.str[0:1]\n",
    "df_3['VIN_manufacturer'] = df_3.VIN.str[1:3]\n",
    "df_3['VIN_model_engine_type'] = df_3.VIN.str[3:8]\n",
    "df_3['VIN_security_code'] = df_3.VIN.str[8:9]\n",
    "df_3['VIN_year'] = df_3.VIN.str[9:10]\n",
    "df_3['VIN_plant'] = df_3.VIN.str[10:11]\n",
    "df_3 = df_3.drop(['VIN'], axis=1)\n",
    "df_3.replace('', np.nan, inplace=True)"
   ]
  },
  {
   "cell_type": "code",
   "execution_count": 7,
   "id": "be3372ae",
   "metadata": {},
   "outputs": [],
   "source": [
    "df_3['VIN_temp'] = df_3.manufacturer.apply(\n",
    "    lambda x: np.random.choice(\n",
    "        list(set(manufacturer_ref.get_group(x)))) if x in manufacturer_ref.groups.keys() else float('NaN'))\n",
    "df_3.VIN_country.fillna(df_3.VIN_temp.str[0:1], inplace = True)\n",
    "df_3.VIN_manufacturer.fillna(df_3.VIN_temp.str[1:], inplace = True)\n",
    "df_3 = df_3.drop(['VIN_temp'], axis=1)"
   ]
  },
  {
   "cell_type": "code",
   "execution_count": 8,
   "id": "6de9739e",
   "metadata": {
    "scrolled": true
   },
   "outputs": [],
   "source": [
    "df_1 = df.dropna()\n",
    "df_2 = df.loc[:, (df.count() >= 350000)]\n",
    "df_2 = df_2.dropna()"
   ]
  },
  {
   "cell_type": "code",
   "execution_count": 9,
   "id": "85eb5356",
   "metadata": {},
   "outputs": [
    {
     "data": {
      "text/plain": [
       "{'region': 'object',\n",
       " 'price': 'int32',\n",
       " 'year': 'Int16',\n",
       " 'manufacturer': 'object',\n",
       " 'model': 'object',\n",
       " 'condition': 'object',\n",
       " 'cylinders': 'Int16',\n",
       " 'fuel': 'object',\n",
       " 'odometer': 'Int32',\n",
       " 'title_status': 'object',\n",
       " 'transmission': 'object',\n",
       " 'drive': 'object',\n",
       " 'type': 'object',\n",
       " 'paint_color': 'object',\n",
       " 'state': 'object',\n",
       " 'lat': 'float64',\n",
       " 'long': 'float64',\n",
       " 'posting_date': 'int64',\n",
       " 'VIN_country': 'object',\n",
       " 'VIN_manufacturer': 'object',\n",
       " 'VIN_model_engine_type': 'object',\n",
       " 'VIN_security_code': 'object',\n",
       " 'VIN_year': 'object',\n",
       " 'VIN_plant': 'object'}"
      ]
     },
     "execution_count": 9,
     "metadata": {},
     "output_type": "execute_result"
    }
   ],
   "source": [
    "dtypes_1 = df_1.dtypes.apply(lambda x: x.name).to_dict()\n",
    "dtypes_2 = df_2.dtypes.apply(lambda x: x.name).to_dict()\n",
    "dtypes_3 = df_3.dtypes.apply(lambda x: x.name).to_dict()\n",
    "dtypes_1"
   ]
  },
  {
   "cell_type": "code",
   "execution_count": 10,
   "id": "2349b2b9",
   "metadata": {},
   "outputs": [],
   "source": [
    "df_1.to_csv('vehicles_1.csv', index=False)\n",
    "df_2.to_csv('vehicles_2.csv', index=False)\n",
    "df_3.to_csv('vehicles_3.csv', index=False)"
   ]
  },
  {
   "cell_type": "code",
   "execution_count": null,
   "id": "7e3ff053",
   "metadata": {},
   "outputs": [],
   "source": []
  }
 ],
 "metadata": {
  "kernelspec": {
   "display_name": "Python 3 (ipykernel)",
   "language": "python",
   "name": "python3"
  },
  "language_info": {
   "codemirror_mode": {
    "name": "ipython",
    "version": 3
   },
   "file_extension": ".py",
   "mimetype": "text/x-python",
   "name": "python",
   "nbconvert_exporter": "python",
   "pygments_lexer": "ipython3",
   "version": "3.10.6"
  }
 },
 "nbformat": 4,
 "nbformat_minor": 5
}
